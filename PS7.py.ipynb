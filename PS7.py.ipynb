{
 "cells": [
  {
   "cell_type": "code",
   "execution_count": 87,
   "metadata": {},
   "outputs": [],
   "source": [
    "import random\n",
    "cIndel = 1\n",
    "cSub = 12\n",
    "cSwap = 13\n",
    "noop = 0\n",
    "\n",
    "def cost(x,y,i,j,S):\n",
    "    if(i<2 or j<2): \n",
    "        sub=S[i-1][j-1]\n",
    "        #checking for need of no-ops\n",
    "        if(x[i-1]!=y[j-1]):\n",
    "            sub+=cSub\n",
    "        delete=S[i-1][j]+cIndel\n",
    "        indel=S[i][j-1]+cIndel\n",
    "        return min(sub,indel,delete)\n",
    "    else:\n",
    "        sub=S[i-1][j-1]\n",
    "        #checking for need of no-ops\n",
    "        if(x[i-1]!=y[j-1]):\n",
    "            sub+=cSub\n",
    "        delete=S[i-1][j]+cIndel\n",
    "        indel=S[i][j-1]+cIndel\n",
    "        swap=S[i-2][j-2]+cSwap\n",
    "         \n",
    "        #checking for subcosts as part of swap\n",
    "        if(x[i-1]!=y[j-2]):\n",
    "            swap+=cSub\n",
    "        if(x[i-2]!=y[j-1]):\n",
    "            swap+=cSub\n",
    "        return min(sub,indel,delete,swap) \n",
    "   \n",
    "    "
   ]
  },
  {
   "cell_type": "code",
   "execution_count": 88,
   "metadata": {},
   "outputs": [
    {
     "name": "stdout",
     "output_type": "stream",
     "text": [
      "[[0, 1, 2, 3], [1, 2, 3, 4], [2, 3, 4, 5], [3, 4, 5, 4], [4, 5, 4, 5]]\n"
     ]
    },
    {
     "data": {
      "text/plain": [
       "5"
      ]
     },
     "execution_count": 88,
     "metadata": {},
     "output_type": "execute_result"
    }
   ],
   "source": [
    "\n",
    "def alignStrings(x,y):\n",
    "    nx = len(x)\n",
    "    ny = len(y)\n",
    "    \n",
    "    S =[[0 for i in range(ny + 1)] for j in range(nx +1)]\n",
    "   # print(S)\n",
    "    S[0][0] = 0\n",
    "    for i in range(1, ny+1):\n",
    "        S[0][i] = i\n",
    "    for j in range(1, nx+1):\n",
    "        S[j][0] = j\n",
    "    for i in range(1, nx + 1):\n",
    "        for j in range(1, ny + 1):\n",
    "            S[i][j] = cost(x, y, i, j, S)\n",
    "    print (S)\n",
    "    return S[i][j]\n",
    "   \n",
    "\n",
    "alignStrings('STEP','APE')"
   ]
  },
  {
   "cell_type": "code",
   "execution_count": 89,
   "metadata": {},
   "outputs": [],
   "source": [
    "def determineOptimalOp(S,i,j,x,y):\n",
    "    # work back from optimal and find values around it that created it \n",
    "    arr =[]\n",
    "    # check if no-op is possible\n",
    "    if (x[i-1] == y[j-1] and S[i][j]== S[i-1][j-1] ):\n",
    "        return \"no-op\"\n",
    "    delete = None\n",
    "    insert = None\n",
    "    sub = None\n",
    "    swap = None\n",
    "    #check if edit op happens and if so calculates array index, plus cost of it, if it to then check again S to see if edit op is possible\n",
    "    if (i >= 1 and j >= 0):\n",
    "        delete = S[i-1][j] + cIndel\n",
    "    if (i >= 0 and j >= 1):\n",
    "        insert = S[i][j-1] + cIndel\n",
    "    if( i >= 1 and j >= 1):\n",
    "        sub = S[i-1][j-1] + cSub\n",
    "    if (i >= 2 and j>= 2):\n",
    "        swap = S[i-2][j-2] + cSwap\n",
    "    \n",
    "    #check if op was possible\n",
    "    if(delete == S[i][j]):\n",
    "        arr.append([\"delete\", delete])\n",
    "    if (insert == S[i][j]):\n",
    "        arr.append([\"insert\", insert])\n",
    "    if (sub == S[i][j]):\n",
    "        arr.append([\"sub\", sub])\n",
    "    if (swap == S[i][j]):\n",
    "        arr.append([\"swap\", swap])\n",
    "    \n",
    "    return arr[random.randint(0, len(arr)-1)][0]\n",
    "        \n"
   ]
  },
  {
   "cell_type": "code",
   "execution_count": 90,
   "metadata": {},
   "outputs": [],
   "source": [
    "def updateIndices(S,i,j,a):\n",
    "    if (a[i] == 'delete'):\n",
    "        return i-1,j\n",
    "    if(a[i] == 'insert'):\n",
    "        return i, j-1\n",
    "    if(a[i]  == 'sub'):\n",
    "        return i-1, j-1\n",
    "    if (a[i]  == 'swap'):\n",
    "        return i-2, j-2\n",
    "    if (a[i]  == 'no-op'):\n",
    "        return i-1, j-1\n",
    "    "
   ]
  },
  {
   "cell_type": "code",
   "execution_count": 91,
   "metadata": {},
   "outputs": [
    {
     "name": "stdout",
     "output_type": "stream",
     "text": [
      "[[0, 1, 2, 3], [1, 2, 3, 4], [2, 3, 4, 5], [3, 4, 5, 4], [4, 5, 4, 5]]\n"
     ]
    },
    {
     "ename": "TypeError",
     "evalue": "'int' object is not subscriptable",
     "output_type": "error",
     "traceback": [
      "\u001b[0;31m---------------------------------------------------------------------------\u001b[0m",
      "\u001b[0;31mTypeError\u001b[0m                                 Traceback (most recent call last)",
      "\u001b[0;32m<ipython-input-91-9251656a2117>\u001b[0m in \u001b[0;36m<module>\u001b[0;34m()\u001b[0m\n\u001b[1;32m     10\u001b[0m     \u001b[0;32mreturn\u001b[0m \u001b[0ma\u001b[0m\u001b[0;34m\u001b[0m\u001b[0m\n\u001b[1;32m     11\u001b[0m \u001b[0mX\u001b[0m \u001b[0;34m=\u001b[0m \u001b[0malignStrings\u001b[0m\u001b[0;34m(\u001b[0m\u001b[0;34m'STEP'\u001b[0m\u001b[0;34m,\u001b[0m\u001b[0;34m'APE'\u001b[0m\u001b[0;34m)\u001b[0m\u001b[0;34m\u001b[0m\u001b[0m\n\u001b[0;32m---> 12\u001b[0;31m \u001b[0mextractAlignment\u001b[0m\u001b[0;34m(\u001b[0m\u001b[0mX\u001b[0m\u001b[0;34m,\u001b[0m\u001b[0;34m'STEP'\u001b[0m\u001b[0;34m,\u001b[0m\u001b[0;34m'APE'\u001b[0m\u001b[0;34m)\u001b[0m\u001b[0;34m\u001b[0m\u001b[0m\n\u001b[0m",
      "\u001b[0;32m<ipython-input-91-9251656a2117>\u001b[0m in \u001b[0;36mextractAlignment\u001b[0;34m(S, x, y)\u001b[0m\n\u001b[1;32m      4\u001b[0m     \u001b[0;34m[\u001b[0m\u001b[0mi\u001b[0m\u001b[0;34m,\u001b[0m\u001b[0mj\u001b[0m\u001b[0;34m]\u001b[0m \u001b[0;34m=\u001b[0m \u001b[0;34m[\u001b[0m\u001b[0mlen\u001b[0m\u001b[0;34m(\u001b[0m\u001b[0mx\u001b[0m\u001b[0;34m)\u001b[0m\u001b[0;34m,\u001b[0m\u001b[0mlen\u001b[0m\u001b[0;34m(\u001b[0m\u001b[0my\u001b[0m\u001b[0;34m)\u001b[0m\u001b[0;34m]\u001b[0m\u001b[0;34m\u001b[0m\u001b[0m\n\u001b[1;32m      5\u001b[0m     \u001b[0;32mwhile\u001b[0m \u001b[0;34m(\u001b[0m\u001b[0mi\u001b[0m \u001b[0;34m>=\u001b[0m \u001b[0;36m0\u001b[0m \u001b[0;32mor\u001b[0m \u001b[0mj\u001b[0m \u001b[0;34m>=\u001b[0m \u001b[0;36m0\u001b[0m\u001b[0;34m)\u001b[0m\u001b[0;34m:\u001b[0m\u001b[0;34m\u001b[0m\u001b[0m\n\u001b[0;32m----> 6\u001b[0;31m         \u001b[0moptimal\u001b[0m \u001b[0;34m=\u001b[0m \u001b[0mdetermineOptimalOp\u001b[0m\u001b[0;34m(\u001b[0m\u001b[0mS\u001b[0m\u001b[0;34m,\u001b[0m\u001b[0mi\u001b[0m\u001b[0;34m,\u001b[0m\u001b[0mj\u001b[0m\u001b[0;34m,\u001b[0m\u001b[0mx\u001b[0m\u001b[0;34m,\u001b[0m\u001b[0my\u001b[0m\u001b[0;34m)\u001b[0m\u001b[0;34m\u001b[0m\u001b[0m\n\u001b[0m\u001b[1;32m      7\u001b[0m         \u001b[0ma\u001b[0m\u001b[0;34m.\u001b[0m\u001b[0mappend\u001b[0m\u001b[0;34m(\u001b[0m\u001b[0moptimal\u001b[0m\u001b[0;34m)\u001b[0m\u001b[0;34m\u001b[0m\u001b[0m\n\u001b[1;32m      8\u001b[0m         \u001b[0;34m[\u001b[0m\u001b[0mi\u001b[0m\u001b[0;34m,\u001b[0m\u001b[0mj\u001b[0m\u001b[0;34m]\u001b[0m \u001b[0;34m=\u001b[0m \u001b[0mupdateIndices\u001b[0m\u001b[0;34m(\u001b[0m\u001b[0mS\u001b[0m\u001b[0;34m,\u001b[0m\u001b[0mi\u001b[0m\u001b[0;34m,\u001b[0m\u001b[0mj\u001b[0m\u001b[0;34m,\u001b[0m\u001b[0ma\u001b[0m\u001b[0;34m)\u001b[0m\u001b[0;34m\u001b[0m\u001b[0m\n",
      "\u001b[0;32m<ipython-input-89-ec1908cae49a>\u001b[0m in \u001b[0;36mdetermineOptimalOp\u001b[0;34m(S, i, j, x, y)\u001b[0m\n\u001b[1;32m     11\u001b[0m     \u001b[0;31m#check if edit op happens and if so calculates array index, plus cost of it, if it to then check again S to see if edit op is possible\u001b[0m\u001b[0;34m\u001b[0m\u001b[0;34m\u001b[0m\u001b[0m\n\u001b[1;32m     12\u001b[0m     \u001b[0;32mif\u001b[0m \u001b[0;34m(\u001b[0m\u001b[0mi\u001b[0m \u001b[0;34m>=\u001b[0m \u001b[0;36m1\u001b[0m \u001b[0;32mand\u001b[0m \u001b[0mj\u001b[0m \u001b[0;34m>=\u001b[0m \u001b[0;36m0\u001b[0m\u001b[0;34m)\u001b[0m\u001b[0;34m:\u001b[0m\u001b[0;34m\u001b[0m\u001b[0m\n\u001b[0;32m---> 13\u001b[0;31m         \u001b[0mdelete\u001b[0m \u001b[0;34m=\u001b[0m \u001b[0mS\u001b[0m\u001b[0;34m[\u001b[0m\u001b[0mi\u001b[0m\u001b[0;34m-\u001b[0m\u001b[0;36m1\u001b[0m\u001b[0;34m]\u001b[0m\u001b[0;34m[\u001b[0m\u001b[0mj\u001b[0m\u001b[0;34m]\u001b[0m \u001b[0;34m+\u001b[0m \u001b[0mcIndel\u001b[0m\u001b[0;34m\u001b[0m\u001b[0m\n\u001b[0m\u001b[1;32m     14\u001b[0m     \u001b[0;32mif\u001b[0m \u001b[0;34m(\u001b[0m\u001b[0mi\u001b[0m \u001b[0;34m>=\u001b[0m \u001b[0;36m0\u001b[0m \u001b[0;32mand\u001b[0m \u001b[0mj\u001b[0m \u001b[0;34m>=\u001b[0m \u001b[0;36m1\u001b[0m\u001b[0;34m)\u001b[0m\u001b[0;34m:\u001b[0m\u001b[0;34m\u001b[0m\u001b[0m\n\u001b[1;32m     15\u001b[0m         \u001b[0minsert\u001b[0m \u001b[0;34m=\u001b[0m \u001b[0mS\u001b[0m\u001b[0;34m[\u001b[0m\u001b[0mi\u001b[0m\u001b[0;34m]\u001b[0m\u001b[0;34m[\u001b[0m\u001b[0mj\u001b[0m\u001b[0;34m-\u001b[0m\u001b[0;36m1\u001b[0m\u001b[0;34m]\u001b[0m \u001b[0;34m+\u001b[0m \u001b[0mcIndel\u001b[0m\u001b[0;34m\u001b[0m\u001b[0m\n",
      "\u001b[0;31mTypeError\u001b[0m: 'int' object is not subscriptable"
     ]
    }
   ],
   "source": [
    "def extractAlignment(S,x,y):\n",
    " \n",
    "    a = []\n",
    "    [i,j] = [len(x),len(y)]\n",
    "    while (i >= 0 or j >= 0):\n",
    "        optimal = determineOptimalOp(S,i,j,x,y)\n",
    "        a.append(optimal)\n",
    "        [i,j] = updateIndices(S,i,j,a)\n",
    "    a.reverse()\n",
    "    return a\n",
    "X = alignStrings('STEP','APE')\n",
    "extractAlignment(X,'STEP','APE')"
   ]
  },
  {
   "cell_type": "code",
   "execution_count": 92,
   "metadata": {},
   "outputs": [],
   "source": [
    "def commonSubstrings(x,L,a):\n",
    "    common = []\n",
    "    word = \"\"\n",
    "    index = 0\n",
    "    noopC = 0\n",
    "\n",
    "    for op in a:\n",
    "        if op == \"Noop\":\n",
    "            word += x[index]\n",
    "            index +=1\n",
    "            noopC += 1\n",
    "        else: \n",
    "            if noopC >= L:\n",
    "                common.append(word)\n",
    "            if op != \"indel\":\n",
    "                index +=1\n",
    "            noopC = 0 \n",
    "            word = \"\"\n",
    "\n",
    "    if word != \"\":\n",
    "        common.append(word)\n",
    "        \n",
    "    print(common)\n",
    "    return common"
   ]
  },
  {
   "cell_type": "code",
   "execution_count": null,
   "metadata": {},
   "outputs": [],
   "source": []
  },
  {
   "cell_type": "code",
   "execution_count": null,
   "metadata": {},
   "outputs": [],
   "source": []
  }
 ],
 "metadata": {
  "kernelspec": {
   "display_name": "Python 3",
   "language": "python",
   "name": "python3"
  },
  "language_info": {
   "codemirror_mode": {
    "name": "ipython",
    "version": 3
   },
   "file_extension": ".py",
   "mimetype": "text/x-python",
   "name": "python",
   "nbconvert_exporter": "python",
   "pygments_lexer": "ipython3",
   "version": "3.6.4"
  }
 },
 "nbformat": 4,
 "nbformat_minor": 2
}
